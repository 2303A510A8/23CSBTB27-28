{
  "nbformat": 4,
  "nbformat_minor": 0,
  "metadata": {
    "colab": {
      "provenance": [],
      "authorship_tag": "ABX9TyP5SkEegzY31QYFOKOz+4M4",
      "include_colab_link": true
    },
    "kernelspec": {
      "name": "python3",
      "display_name": "Python 3"
    },
    "language_info": {
      "name": "python"
    }
  },
  "cells": [
    {
      "cell_type": "markdown",
      "metadata": {
        "id": "view-in-github",
        "colab_type": "text"
      },
      "source": [
        "<a href=\"https://colab.research.google.com/github/2303A510A8/23CSBTB27-28/blob/main/2303A510A8%5Blab_1%5D.ipynb\" target=\"_parent\"><img src=\"https://colab.research.google.com/assets/colab-badge.svg\" alt=\"Open In Colab\"/></a>"
      ]
    },
    {
      "cell_type": "code",
      "source": [
        "import numpy as np\n",
        "list={1,5,2,6,7}\n",
        "listl=[3,6,1,8]\n",
        "print(list)\n",
        "print(listl)\n",
        "print(type(list))\n",
        "print(type(listl))"
      ],
      "metadata": {
        "colab": {
          "base_uri": "https://localhost:8080/"
        },
        "id": "N54L9K-p3p7Z",
        "outputId": "3e35b6a8-e604-4af2-e624-80bc5780acd8"
      },
      "execution_count": 4,
      "outputs": [
        {
          "output_type": "stream",
          "name": "stdout",
          "text": [
            "{1, 2, 5, 6, 7}\n",
            "[3, 6, 1, 8]\n",
            "<class 'set'>\n",
            "<class 'list'>\n"
          ]
        }
      ]
    },
    {
      "cell_type": "code",
      "source": [
        "List1 = [\"Geeks\", \"For\", \"Geeks\"]\n",
        "List2 = \"my first lab\"\n",
        "List3 = 4.3\n",
        "List4 = 2j+6\n",
        "List5 = 'My First Lab'\n",
        "print(type(List2))\n",
        "print(type(List3))\n",
        "print(type(List4))\n",
        "print(type(List5))\n",
        "print(\"\\nList Items:  \")\n",
        "print(List1)\n",
        "print(type(List1))\n",
        "print(List1[0])\n",
        "print(List1[2])"
      ],
      "metadata": {
        "colab": {
          "base_uri": "https://localhost:8080/"
        },
        "id": "1zB3gE5W3zi5",
        "outputId": "87b9f3ff-9328-4724-f548-efedd0d67a85"
      },
      "execution_count": 5,
      "outputs": [
        {
          "output_type": "stream",
          "name": "stdout",
          "text": [
            "<class 'str'>\n",
            "<class 'float'>\n",
            "<class 'complex'>\n",
            "<class 'str'>\n",
            "\n",
            "List Items:  \n",
            "['Geeks', 'For', 'Geeks']\n",
            "<class 'list'>\n",
            "Geeks\n",
            "Geeks\n"
          ]
        }
      ]
    },
    {
      "cell_type": "code",
      "source": [
        "List ={1:\"greek1\",2:'Geeks', 'For':3,'Geeks':6}\n",
        "print(\"\\nList with the use of Mixed Values: \")\n",
        "print(List)\n",
        "print(type(List))"
      ],
      "metadata": {
        "colab": {
          "base_uri": "https://localhost:8080/"
        },
        "id": "-uiasWvd33TZ",
        "outputId": "9ce3521c-0f7c-4b2c-bc25-7256e553d9c4"
      },
      "execution_count": 6,
      "outputs": [
        {
          "output_type": "stream",
          "name": "stdout",
          "text": [
            "\n",
            "List with the use of Mixed Values: \n",
            "{1: 'greek1', 2: 'Geeks', 'For': 3, 'Geeks': 6}\n",
            "<class 'dict'>\n"
          ]
        }
      ]
    }
  ]
}